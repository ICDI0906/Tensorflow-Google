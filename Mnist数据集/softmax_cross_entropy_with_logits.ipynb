{
 "cells": [
  {
   "cell_type": "code",
   "execution_count": 28,
   "metadata": {},
   "outputs": [],
   "source": [
    "import tensorflow as tf\n",
    "import numpy as np"
   ]
  },
  {
   "cell_type": "code",
   "execution_count": 29,
   "metadata": {},
   "outputs": [],
   "source": [
    "v = tf.random.truncated_normal(shape = [10,10],mean = 0.0, stddev = 1.0) # 把大于等于两个标准差的值删掉"
   ]
  },
  {
   "cell_type": "code",
   "execution_count": 30,
   "metadata": {},
   "outputs": [
    {
     "name": "stdout",
     "output_type": "stream",
     "text": [
      "[15.938116]\n"
     ]
    }
   ],
   "source": [
    "#### 小的验证程序 sparse_softmax_cross_entropy_with_logits 和 softmax_cross_entropy_with_logits\n",
    "c1 = tf.constant([[1.0,2.0,3.0,4.0]],tf.float32)\n",
    "c2 = tf.constant([[1.0,0.0,0.0,2.0]],tf.float32)\n",
    "# op = tf.nn.sparse_softmax_cross_entropy_with_logits(logits = c2, labels = tf.argmax(c1,1))\n",
    "op = tf.nn.softmax_cross_entropy_with_logits(logits = c2, labels = c1)\n",
    "with tf.Session() as sess:\n",
    "    print(sess.run(op))"
   ]
  },
  {
   "cell_type": "markdown",
   "metadata": {},
   "source": [
    "- tf.argmax(tensor,axis = 0) 如果是0的话就是列中取最大索引，如果是1的话就是行中取最大索引\n",
    "- 交叉损失 $E = -\\sum_{i = 0}^{n}y_{i} \\times log(y'_{i})$\n",
    "- softmax_cross_entropy_with_logits 要求 lables 和logits 必须得是相同大小的。而 sparse_softmax_cross_entropy_with_logits 中可以logits 的shape \\[n_sample\\]\\[n_feature\\] 而labels 的shape 可以为\\[n_sampe\\]"
   ]
  },
  {
   "cell_type": "code",
   "execution_count": 31,
   "metadata": {},
   "outputs": [
    {
     "data": {
      "text/plain": [
       "15.938117090722386"
      ]
     },
     "execution_count": 31,
     "metadata": {},
     "output_type": "execute_result"
    }
   ],
   "source": [
    "import numpy as np\n",
    "a1 = np.exp(1) / (np.exp(1) + 2 + np.exp(2))\n",
    "b1 = np.exp(0) / (np.exp(1) + 2 + np.exp(2))\n",
    "c1 = np.exp(2) / (np.exp(1) + 2 + np.exp(2))\n",
    "- np.sum((np.log(a1), 2 * np.log(b1), 3 * np.log(b1), 4 * np.log(c1)))"
   ]
  },
  {
   "cell_type": "code",
   "execution_count": null,
   "metadata": {},
   "outputs": [],
   "source": []
  }
 ],
 "metadata": {
  "kernelspec": {
   "display_name": "Python 3",
   "language": "python",
   "name": "python3"
  },
  "language_info": {
   "codemirror_mode": {
    "name": "ipython",
    "version": 3
   },
   "file_extension": ".py",
   "mimetype": "text/x-python",
   "name": "python",
   "nbconvert_exporter": "python",
   "pygments_lexer": "ipython3",
   "version": "3.5.2rc1"
  }
 },
 "nbformat": 4,
 "nbformat_minor": 1
}
