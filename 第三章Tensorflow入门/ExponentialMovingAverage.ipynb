{
 "cells": [
  {
   "cell_type": "code",
   "execution_count": 1,
   "metadata": {},
   "outputs": [],
   "source": [
    "import tensorflow as tf\n",
    "import numpy as np\n",
    "import matplotlib.pyplot as plt"
   ]
  },
  {
   "cell_type": "code",
   "execution_count": 3,
   "metadata": {},
   "outputs": [
    {
     "name": "stdout",
     "output_type": "stream",
     "text": [
      "[-0.16123527]\n",
      "[0.98945576] [0.038633]\n"
     ]
    }
   ],
   "source": [
    "a1 = tf.Variable(tf.truncated_normal(shape = [1],mean = 0, stddev = 1))\n",
    "b1 = tf.Variable(tf.truncated_normal(shape = [1],mean = 0, stddev = 1))\n",
    "\n",
    "x = tf.placeholder(tf.float32 , shape = [1])\n",
    "y_ = tf.placeholder(tf.float32 , shape = [1])\n",
    "\n",
    "y = tf.add(tf.multiply(a1,x), b1)\n",
    "\n",
    "train_x = np.arange(1,1000,1.0)\n",
    "train_y = np.arange(1,1000,1.0)\n",
    "\n",
    "loss = tf.losses.mean_squared_error(y, y_)\n",
    "optimi = tf.train.GradientDescentOptimizer(0.001).minimize(loss)\n",
    "\n",
    "aver = tf.train.ExponentialMovingAverage(0.999)\n",
    "average_op = aver.apply(tf.trainable_variables())\n",
    "\n",
    "with tf.control_dependencies([optimi, average_op]):\n",
    "    train_op = tf.no_op()\n",
    "\n",
    "result_v = []\n",
    "result_a = []\n",
    "with tf.Session() as sess:\n",
    "    tf.global_variables_initializer().run()\n",
    "    result_a.append(sess.run(a1))\n",
    "    step = 10000\n",
    "    print(sess.run(a1))\n",
    "    for i in range(step):\n",
    "        x_t = train_x[i % 5]\n",
    "        y_t = train_y[i % 5]\n",
    "        sess.run(train_op, feed_dict = {x : [x_t], y_ : [y_t]})\n",
    "        \n",
    "        result_a.append(sess.run(a1))\n",
    "        v1 = aver.average(a1)\n",
    "        result_v.append(sess.run(v1))\n",
    "    \n",
    "    print(sess.run(a1),sess.run(b1))\n",
    "# writer = tf.summary.FileWriter('./graph', sess.graph)"
   ]
  },
  {
   "cell_type": "code",
   "execution_count": 4,
   "metadata": {},
   "outputs": [
    {
     "data": {
      "text/plain": [
       "[<matplotlib.lines.Line2D at 0x12791c630>]"
      ]
     },
     "execution_count": 4,
     "metadata": {},
     "output_type": "execute_result"
    },
    {
     "data": {
      "image/png": "[encoded data removed]",
      "text/plain": [
       "<Figure size 432x288 with 1 Axes>"
      ]
     },
     "metadata": {},
     "output_type": "display_data"
    }
   ],
   "source": [
    "x = range(len(result_v))\n",
    "plt.plot(x,result_v,'-',c = 'b')\n",
    "plt.plot(x,result_a[1:],'-')"
   ]
  },
  {
   "cell_type": "code",
   "execution_count": 6,
   "metadata": {},
   "outputs": [],
   "source": [
    "# result_v"
   ]
  },
  {
   "cell_type": "code",
   "execution_count": 7,
   "metadata": {},
   "outputs": [],
   "source": [
    "# result_a"
   ]
  },
  {
   "cell_type": "code",
   "execution_count": 8,
   "metadata": {},
   "outputs": [],
   "source": [
    "ans = []\n",
    "for i, v_i in enumerate(result_v):\n",
    "    ans.append(result_v[i] * 0.999 + 0.001 * result_a[i + 1])"
   ]
  },
  {
   "cell_type": "code",
   "execution_count": 9,
   "metadata": {},
   "outputs": [
    {
     "data": {
      "text/plain": [
       "[array([0.98382616], dtype=float32), array([0.98383176], dtype=float32)]"
      ]
     },
     "execution_count": 9,
     "metadata": {},
     "output_type": "execute_result"
    }
   ],
   "source": [
    "ans[-2:]"
   ]
  },
  {
   "cell_type": "code",
   "execution_count": 11,
   "metadata": {},
   "outputs": [
    {
     "data": {
      "text/plain": [
       "[array([0.9838207], dtype=float32), array([0.98382616], dtype=float32)]"
      ]
     },
     "execution_count": 11,
     "metadata": {},
     "output_type": "execute_result"
    }
   ],
   "source": [
    "result_v[-2:]"
   ]
  }
 ],
 "metadata": {
  "kernelspec": {
   "display_name": "Python 3",
   "language": "python",
   "name": "python3"
  },
  "language_info": {
   "codemirror_mode": {
    "name": "ipython",
    "version": 3
   },
   "file_extension": ".py",
   "mimetype": "text/x-python",
   "name": "python",
   "nbconvert_exporter": "python",
   "pygments_lexer": "ipython3",
   "version": "3.5.2rc1"
  }
 },
 "nbformat": 4,
 "nbformat_minor": 1
}
