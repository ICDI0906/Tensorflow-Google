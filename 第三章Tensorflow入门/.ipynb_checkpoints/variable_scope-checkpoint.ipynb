{
 "cells": [
  {
   "cell_type": "code",
   "execution_count": 44,
   "metadata": {},
   "outputs": [],
   "source": [
    "import tensorflow as tf\n",
    "tf.reset_default_graph() # 重置计算图"
   ]
  },
  {
   "cell_type": "code",
   "execution_count": 45,
   "metadata": {},
   "outputs": [],
   "source": [
    "with tf.variable_scope(\"zhang\"):\n",
    "    with tf.variable_scope(\"kai\"):\n",
    "        v = tf.get_variable(\"b\",[1])  # 可以应用于首次定义该变量的时候, \n",
    "        assert v.name == \"zhang/kai/b:0\""
   ]
  },
  {
   "cell_type": "code",
   "execution_count": 46,
   "metadata": {},
   "outputs": [],
   "source": [
    "with tf.variable_scope(\"zhang\") as tf1:\n",
    "    pass"
   ]
  },
  {
   "cell_type": "code",
   "execution_count": 47,
   "metadata": {},
   "outputs": [],
   "source": [
    "# 安全的方式 进入一个命名空间\n",
    "with tf.variable_scope(tf1, auxiliary_name_scope = False,reuse = False) as tf2:\n",
    "    with tf.name_scope(tf1.original_name_scope):\n",
    "        w = tf.get_variable(\"b\",[1])\n",
    "        assert w.name == \"zhang/b:0\""
   ]
  },
  {
   "cell_type": "code",
   "execution_count": 63,
   "metadata": {},
   "outputs": [],
   "source": [
    "# 共享一个变量\n",
    "tf.reset_default_graph()\n",
    "def foo():\n",
    "    with tf.variable_scope(\"zhang\", reuse = tf.AUTO_REUSE): # this must be tf.AUTO_REUSE\n",
    "        v = tf.get_variable(\"v\",[1])\n",
    "    return v\n",
    "v = foo()\n",
    "w = foo()\n",
    "assert v == w"
   ]
  },
  {
   "cell_type": "code",
   "execution_count": 71,
   "metadata": {},
   "outputs": [],
   "source": [
    "# one way to reuse variable\n",
    "tf.reset_default_graph()\n",
    "with tf.variable_scope(\"zhang\"):\n",
    "    v = tf.get_variable(\"v\",[1])\n",
    "with tf.variable_scope(\"zhang\",reuse = True): # reuse\n",
    "    v1 = tf.get_variable(\"v\",[1])"
   ]
  },
  {
   "cell_type": "code",
   "execution_count": 70,
   "metadata": {},
   "outputs": [],
   "source": [
    "tf.reset_default_graph()\n",
    "# 在variable_scope 中重新使用变量\n",
    "with tf.variable_scope(\"zhang\") as scope:\n",
    "    v = tf.get_variable(\"v\",[1])\n",
    "    scope.reuse_variables()\n",
    "    v1 = tf.get_variable(\"v\",[1])\n",
    "    assert v == v1"
   ]
  },
  {
   "cell_type": "code",
   "execution_count": 114,
   "metadata": {},
   "outputs": [
    {
     "name": "stdout",
     "output_type": "stream",
     "text": [
      "\n",
      "<tf.Variable 'zhang:0' shape=(1,) dtype=float32_ref>\n",
      "<tf.Variable 'zhang:0' shape=(1,) dtype=float32_ref>\n",
      "<tf.Variable 'zhang:0' shape=(1,) dtype=float32_ref>\n",
      "<tf.Variable 'zhang:0' shape=(1,) dtype=float32_ref>\n",
      "<tf.Variable 'zhang:0' shape=(1,) dtype=float32_ref>\n",
      "<tf.Variable 'zhang:0' shape=(1,) dtype=float32_ref>\n",
      "<tf.Variable 'zhang:0' shape=(1,) dtype=float32_ref>\n",
      "<tf.Variable 'zhang:0' shape=(1,) dtype=float32_ref>\n",
      "<tf.Variable 'zhang:0' shape=(1,) dtype=float32_ref>\n",
      "<tf.Variable 'zhang:0' shape=(1,) dtype=float32_ref>\n"
     ]
    }
   ],
   "source": [
    "# 多线程共享变量\n",
    "tf.reset_default_graph()\n",
    "from threading import Thread\n",
    "    \n",
    "main_thread_scope = tf.get_variable_scope()\n",
    "print(main_thread_scope.name)\n",
    "\n",
    "\n",
    "def thread_target_fn(captured_scope):\n",
    "    with tf.variable_scope(captured_scope):\n",
    "        v = tf.get_variable(\"zhang\",[1])\n",
    "    return v\n",
    "\n",
    "class MyThread(Thread):\n",
    "    def __init__(self,func,args=()):\n",
    "        super(MyThread,self).__init__()\n",
    "        self.func = func\n",
    "        self.args = args\n",
    "    def run(self):\n",
    "        self.result = self.func(*self.args)\n",
    "        \n",
    "    def get_result(self):\n",
    "        Thread.join(self) # 要加上，不然因为主线程快速\n",
    "        try:\n",
    "            return self.result  # 如果子线程不使用join方法，此处可能会报没有self.result的错误\n",
    "        except Exception:\n",
    "            return None\n",
    "        \n",
    "for i in range(10):\n",
    "    t = MyThread(thread_target_fn,(main_thread_scope,))\n",
    "    t.start()\n",
    "    print(t.get_result())"
   ]
  },
  {
   "cell_type": "code",
   "execution_count": null,
   "metadata": {},
   "outputs": [],
   "source": []
  }
 ],
 "metadata": {
  "kernelspec": {
   "display_name": "Python 3",
   "language": "python",
   "name": "python3"
  },
  "language_info": {
   "codemirror_mode": {
    "name": "ipython",
    "version": 3
   },
   "file_extension": ".py",
   "mimetype": "text/x-python",
   "name": "python",
   "nbconvert_exporter": "python",
   "pygments_lexer": "ipython3",
   "version": "3.5.2rc1"
  }
 },
 "nbformat": 4,
 "nbformat_minor": 1
}
